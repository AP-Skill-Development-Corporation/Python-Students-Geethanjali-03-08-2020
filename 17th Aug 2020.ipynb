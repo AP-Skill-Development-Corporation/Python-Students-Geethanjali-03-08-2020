{
 "cells": [
  {
   "cell_type": "markdown",
   "metadata": {},
   "source": [
    "- OOPS\n",
    "    - Object oriented Programming Structure\n",
    "    - class\n",
    "        - collection variables and methods\n",
    "        - Function\n",
    "            - collection of statements\n",
    "        - Method\n",
    "            - Function can be define inside the class\n",
    "        - syntax\n",
    "            - class classname:\n",
    "                 vars\n",
    "                 methods\n",
    "        - Rules\n",
    "            - Name should start with uppercase\n",
    "    - Object\n",
    "        - Blueprint of class\n",
    "        - syntax:\n",
    "            - objectname = classname\n",
    "    - constructor\n",
    "    - Inheritance"
   ]
  },
  {
   "cell_type": "code",
   "execution_count": 2,
   "metadata": {},
   "outputs": [],
   "source": [
    "class Hi:\n",
    "    a = 10\n",
    "    b = 8\n",
    "    def display():\n",
    "        print(\"Iam from display function..\")"
   ]
  },
  {
   "cell_type": "code",
   "execution_count": 4,
   "metadata": {},
   "outputs": [
    {
     "name": "stdout",
     "output_type": "stream",
     "text": [
      "10\n",
      "Iam from display function..\n",
      "None\n"
     ]
    }
   ],
   "source": [
    "print(Hi.a)\n",
    "print(Hi.display())"
   ]
  },
  {
   "cell_type": "code",
   "execution_count": 5,
   "metadata": {},
   "outputs": [
    {
     "name": "stdout",
     "output_type": "stream",
     "text": [
      "Iam from display function..\n"
     ]
    }
   ],
   "source": [
    "Hi.display()"
   ]
  },
  {
   "cell_type": "code",
   "execution_count": 6,
   "metadata": {},
   "outputs": [
    {
     "data": {
      "text/plain": [
       "10"
      ]
     },
     "execution_count": 6,
     "metadata": {},
     "output_type": "execute_result"
    }
   ],
   "source": [
    "# with the help of object\n",
    "obj = Hi\n",
    "obj.a"
   ]
  },
  {
   "cell_type": "code",
   "execution_count": 7,
   "metadata": {},
   "outputs": [
    {
     "name": "stdout",
     "output_type": "stream",
     "text": [
      "Iam from display function..\n"
     ]
    }
   ],
   "source": [
    "obj.display()"
   ]
  },
  {
   "cell_type": "code",
   "execution_count": 8,
   "metadata": {},
   "outputs": [],
   "source": [
    "class Math:\n",
    "    \"\"\"Inside math Iam defining add() and mul() \"\"\"\n",
    "    def add(a,b):\n",
    "        return a + b\n",
    "    def mul(a,b):\n",
    "        return a * b"
   ]
  },
  {
   "cell_type": "code",
   "execution_count": 9,
   "metadata": {},
   "outputs": [
    {
     "data": {
      "text/plain": [
       "10"
      ]
     },
     "execution_count": 9,
     "metadata": {},
     "output_type": "execute_result"
    }
   ],
   "source": [
    "# Object creation\n",
    "ob = Math\n",
    "ob.add(5,5)"
   ]
  },
  {
   "cell_type": "code",
   "execution_count": 10,
   "metadata": {},
   "outputs": [
    {
     "data": {
      "text/plain": [
       "63"
      ]
     },
     "execution_count": 10,
     "metadata": {},
     "output_type": "execute_result"
    }
   ],
   "source": [
    "ob.mul(7,9)"
   ]
  },
  {
   "cell_type": "markdown",
   "metadata": {},
   "source": [
    "- Constructor\n",
    "    - special kind of method in python\n",
    "    - syntax\n",
    "        - class classname:\n",
    "            def __init__(self):# self is a default parameter\n",
    "                statements\n",
    "            def __init__(self,a,b):\n",
    "                statements\n",
    "            def __init__(a,b,self):# a is default parameter\n",
    "                statements\n",
    "                "
   ]
  },
  {
   "cell_type": "code",
   "execution_count": 15,
   "metadata": {},
   "outputs": [
    {
     "name": "stdout",
     "output_type": "stream",
     "text": [
      "Python online\n"
     ]
    }
   ],
   "source": [
    "class Display:\n",
    "    def __init__(self):\n",
    "        self.name = 'Python online'\n",
    "    def printinfo(self):\n",
    "        print(self.name)\n",
    "obj = Display()\n",
    "obj.printinfo()"
   ]
  },
  {
   "cell_type": "code",
   "execution_count": 16,
   "metadata": {},
   "outputs": [
    {
     "name": "stdout",
     "output_type": "stream",
     "text": [
      "Iam Calling with out calling Object...\n"
     ]
    }
   ],
   "source": [
    "class Displayinfo:\n",
    "    def __init__(self,name,number):\n",
    "        self.name = name\n",
    "        self.number = number\n",
    "        print(\"Iam Calling with out calling Object...\")\n",
    "obj1 = Displayinfo('python',123)"
   ]
  },
  {
   "cell_type": "code",
   "execution_count": 17,
   "metadata": {},
   "outputs": [
    {
     "data": {
      "text/plain": [
       "'python'"
      ]
     },
     "execution_count": 17,
     "metadata": {},
     "output_type": "execute_result"
    }
   ],
   "source": [
    "obj1.name"
   ]
  },
  {
   "cell_type": "code",
   "execution_count": 18,
   "metadata": {},
   "outputs": [
    {
     "data": {
      "text/plain": [
       "123"
      ]
     },
     "execution_count": 18,
     "metadata": {},
     "output_type": "execute_result"
    }
   ],
   "source": [
    "obj1.number"
   ]
  },
  {
   "cell_type": "code",
   "execution_count": 21,
   "metadata": {},
   "outputs": [
    {
     "name": "stdout",
     "output_type": "stream",
     "text": [
      "6\n",
      "10\n"
     ]
    },
    {
     "data": {
      "text/plain": [
       "16"
      ]
     },
     "execution_count": 21,
     "metadata": {},
     "output_type": "execute_result"
    }
   ],
   "source": [
    "class Maths:\n",
    "    def __init__(abc,val1,val2):\n",
    "        abc.val1 = val1\n",
    "        abc.val2 = val2\n",
    "    def show(abc):\n",
    "        print(abc.val1)\n",
    "        print(abc.val2)\n",
    "    def add(abc):\n",
    "        return abc.val1 + abc.val2 \n",
    "ma = Maths(6,10)\n",
    "ma.show()\n",
    "ma.add()"
   ]
  },
  {
   "cell_type": "code",
   "execution_count": 23,
   "metadata": {},
   "outputs": [
    {
     "name": "stdout",
     "output_type": "stream",
     "text": [
      "6\n",
      "10\n"
     ]
    },
    {
     "data": {
      "text/plain": [
       "26"
      ]
     },
     "execution_count": 23,
     "metadata": {},
     "output_type": "execute_result"
    }
   ],
   "source": [
    "class Maths1:\n",
    "    def __init__(abc,val1,val2):\n",
    "        abc.val1 = val1\n",
    "        abc.val2 = val2\n",
    "    def show(abc):\n",
    "        print(abc.val1)\n",
    "        print(abc.val2)\n",
    "    def add(abc,val3):\n",
    "        return abc.val1 + abc.val2 + val3\n",
    "ma = Maths1(6,10)\n",
    "ma.show()\n",
    "ma.add(10)"
   ]
  },
  {
   "cell_type": "code",
   "execution_count": 25,
   "metadata": {},
   "outputs": [
    {
     "name": "stdout",
     "output_type": "stream",
     "text": [
      "Trail..\n"
     ]
    }
   ],
   "source": [
    "class Con:\n",
    "    def __myinit__(self):\n",
    "        print(\"Trail..\")\n",
    "objt = Con()\n",
    "objt. __myinit__()"
   ]
  },
  {
   "cell_type": "code",
   "execution_count": 26,
   "metadata": {},
   "outputs": [
    {
     "name": "stdout",
     "output_type": "stream",
     "text": [
      "('Ambika', 'APSSDC')\n"
     ]
    }
   ],
   "source": [
    "class Userinfo:\n",
    "    def __init__(self,name,org):\n",
    "        self.name = name\n",
    "        self.org = org\n",
    "    def show(self):\n",
    "        return (self.name,self.org)\n",
    "u1 = Userinfo('Ambika','APSSDC')\n",
    "print(u1.show())"
   ]
  },
  {
   "cell_type": "markdown",
   "metadata": {},
   "source": [
    "- Inheritance\n",
    "    - Trying to inherit something from parent class to child class\n",
    "    - syntax:\n",
    "        - class childclassname(parentclassname):\n",
    "    - Single level Inheritance\n",
    "        - Only one parent class and one child class\n",
    "    - Multi level\n",
    "        - One or more parent classes and one or more child classes\n",
    "    - Multiple\n",
    "        - Morethan one parent class and Only single child\n",
    "    - Hybrid\n",
    "        - multiple parent clases and multiple child\n",
    "        - combination of all inheritance\n",
    "    "
   ]
  },
  {
   "cell_type": "code",
   "execution_count": 29,
   "metadata": {},
   "outputs": [
    {
     "name": "stdout",
     "output_type": "stream",
     "text": [
      "10\n",
      "Hii Iam from Parent class i.e ClassA \n",
      "None\n",
      "22\n"
     ]
    }
   ],
   "source": [
    "# single level Inheritance\n",
    "class ClassA():\n",
    "    a,b = 10,20\n",
    "    def display():\n",
    "        print(\"Hii Iam from Parent class i.e ClassA \")\n",
    "class ClassB(ClassA):\n",
    "    c,d = 22,23\n",
    "    def show():\n",
    "        print(\"Iam from Child Class i.e classB \")\n",
    "obj = ClassB\n",
    "print(obj.a)\n",
    "print(obj.display())\n",
    "print(obj.c)"
   ]
  },
  {
   "cell_type": "code",
   "execution_count": 32,
   "metadata": {},
   "outputs": [
    {
     "name": "stdout",
     "output_type": "stream",
     "text": [
      "Iam from Class A..\n",
      "Iam from Class B..\n",
      "Iam from Class C...\n"
     ]
    }
   ],
   "source": [
    "# Multi level Inheritance\n",
    "class A:\n",
    "    def classA():\n",
    "        print(\"Iam from Class A..\")\n",
    "class B(A):# B -- child, A -- Parent\n",
    "    def classB():\n",
    "        print(\"Iam from Class B..\")\n",
    "class C(B):# c-- Child B-- Parent\n",
    "    def classC():\n",
    "        print(\"Iam from Class C...\")\n",
    "obj = C\n",
    "obj.classA()\n",
    "obj.classB()\n",
    "obj.classC()"
   ]
  },
  {
   "cell_type": "code",
   "execution_count": 33,
   "metadata": {},
   "outputs": [
    {
     "name": "stdout",
     "output_type": "stream",
     "text": [
      "Iam from Class A...\n",
      "Iam from Class C...\n",
      "Iam from class B ...\n"
     ]
    }
   ],
   "source": [
    "# Multiple Inheritance\n",
    "class A:\n",
    "    def classA():\n",
    "        print(\"Iam from Class A...\")\n",
    "class B:\n",
    "    def classB():\n",
    "        print(\"Iam from class B ...\")\n",
    "class C(A,B):\n",
    "    def classC():\n",
    "        print(\"Iam from Class C...\")\n",
    "obj = C\n",
    "obj.classA()\n",
    "obj.classC()\n",
    "obj.classB()"
   ]
  },
  {
   "cell_type": "code",
   "execution_count": null,
   "metadata": {},
   "outputs": [],
   "source": [
    "# Nested Classes\n",
    "class Outer:\n",
    "    class Inner:\n",
    "        pass\n",
    "        class Inner1:\n",
    "            pass\n",
    "    "
   ]
  },
  {
   "cell_type": "markdown",
   "metadata": {},
   "source": [
    "- Packages and modules using OOps\n",
    "    - Here we deal with classes,constructors\n",
    "- Package(Folder) -- Collection of modules\n",
    "- Module(.py file) -- collection of classes,functions\n",
    "- Accessing Modules\n",
    "    - Import Package\n",
    "    - Other ways\n",
    "        - from module import class\n",
    "        - from module.class import function_name\n",
    "        - from module.class import *"
   ]
  },
  {
   "cell_type": "code",
   "execution_count": 2,
   "metadata": {},
   "outputs": [
    {
     "data": {
      "text/plain": [
       "3125"
      ]
     },
     "execution_count": 2,
     "metadata": {},
     "output_type": "execute_result"
    }
   ],
   "source": [
    "from Package import module\n",
    "obj = module.Calci\n",
    "obj.power(5,5)"
   ]
  },
  {
   "cell_type": "code",
   "execution_count": 6,
   "metadata": {},
   "outputs": [
    {
     "data": {
      "text/plain": [
       "False"
      ]
     },
     "execution_count": 6,
     "metadata": {},
     "output_type": "execute_result"
    }
   ],
   "source": [
    "from Package import module\n",
    "obj1 = module.Calci1\n",
    "obj1.isEven(10)\n",
    "obj1.isEven(9)"
   ]
  },
  {
   "cell_type": "code",
   "execution_count": 4,
   "metadata": {},
   "outputs": [
    {
     "name": "stdout",
     "output_type": "stream",
     "text": [
      "12\n"
     ]
    }
   ],
   "source": [
    "from Package import module\n",
    "obj = module.Calci2(6,6)\n",
    "print(obj.__add__())"
   ]
  },
  {
   "cell_type": "code",
   "execution_count": null,
   "metadata": {},
   "outputs": [],
   "source": []
  }
 ],
 "metadata": {
  "kernelspec": {
   "display_name": "Python 3",
   "language": "python",
   "name": "python3"
  },
  "language_info": {
   "codemirror_mode": {
    "name": "ipython",
    "version": 3
   },
   "file_extension": ".py",
   "mimetype": "text/x-python",
   "name": "python",
   "nbconvert_exporter": "python",
   "pygments_lexer": "ipython3",
   "version": "3.7.1"
  }
 },
 "nbformat": 4,
 "nbformat_minor": 2
}
