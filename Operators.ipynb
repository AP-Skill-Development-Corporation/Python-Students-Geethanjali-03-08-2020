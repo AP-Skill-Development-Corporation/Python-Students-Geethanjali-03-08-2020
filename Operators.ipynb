{
 "cells": [
  {
   "cell_type": "code",
   "execution_count": null,
   "metadata": {},
   "outputs": [],
   "source": [
    "1.Arithmetic Operators : +,-,*,/,%,//(floor),**(power)\n",
    "2.Assignment Operators : =,+=,-=,*=,/=,%=,**=\n",
    "3.Logical Operators :  and,or,not\n",
    "4.Comparision Operators : ==,!=,<,>,<=,>=\n",
    "5.Bitwise Operators : &,|,~,<<,>>\n",
    "6.Membership Operators : in,not in\n",
    "7.Identity Operators : is,is not\n"
   ]
  },
  {
   "cell_type": "code",
   "execution_count": null,
   "metadata": {},
   "outputs": [],
   "source": [
    "Arithmetic Operators:  These operators are used to perform mathematical operations\n",
    "    like addition,substraction,multiplication,division..........\n"
   ]
  },
  {
   "cell_type": "code",
   "execution_count": 8,
   "metadata": {},
   "outputs": [
    {
     "name": "stdout",
     "output_type": "stream",
     "text": [
      "11\n",
      "3\n",
      "28\n",
      "1.75\n",
      "3\n",
      "2401\n",
      "1\n"
     ]
    }
   ],
   "source": [
    "print(7+4)\n",
    "print(7-4)\n",
    "print(7*4)\n",
    "print(7/4)\n",
    "print(7%4)\n",
    "print(7**4)\n",
    "print(7//4)"
   ]
  },
  {
   "cell_type": "code",
   "execution_count": 12,
   "metadata": {},
   "outputs": [
    {
     "name": "stdout",
     "output_type": "stream",
     "text": [
      "1\n",
      "1.5\n",
      "1\n"
     ]
    }
   ],
   "source": [
    "print(3//2)\n",
    "print(3/2)\n",
    "print(3%2)"
   ]
  },
  {
   "cell_type": "code",
   "execution_count": null,
   "metadata": {},
   "outputs": [],
   "source": [
    "# Assignment Operators: =,+=,-=,*=,/=,%=,.......\n",
    " Assignment Operators is simply to assign values..\n",
    "    \n"
   ]
  },
  {
   "cell_type": "code",
   "execution_count": 13,
   "metadata": {},
   "outputs": [
    {
     "name": "stdout",
     "output_type": "stream",
     "text": [
      "9\n"
     ]
    }
   ],
   "source": [
    "a=7\n",
    "a+=2    //a=a+2\n",
    "print(a)\n"
   ]
  },
  {
   "cell_type": "code",
   "execution_count": 14,
   "metadata": {},
   "outputs": [
    {
     "name": "stdout",
     "output_type": "stream",
     "text": [
      "2\n"
     ]
    }
   ],
   "source": [
    "b=3\n",
    "b-=1   # b=b-1\n",
    "print(b)"
   ]
  },
  {
   "cell_type": "code",
   "execution_count": 15,
   "metadata": {},
   "outputs": [
    {
     "name": "stdout",
     "output_type": "stream",
     "text": [
      "8\n"
     ]
    }
   ],
   "source": [
    "c=4\n",
    "c*=2 # c=c*2=4*2=8\n",
    "print(c)"
   ]
  },
  {
   "cell_type": "code",
   "execution_count": 18,
   "metadata": {},
   "outputs": [
    {
     "name": "stdout",
     "output_type": "stream",
     "text": [
      "True\n"
     ]
    }
   ],
   "source": [
    "# 4.Comparision Operators : ==,!=,<,>,<=,>=\n",
    "a=4\n",
    "b=4\n",
    "print(a==b)"
   ]
  },
  {
   "cell_type": "code",
   "execution_count": 20,
   "metadata": {},
   "outputs": [
    {
     "name": "stdout",
     "output_type": "stream",
     "text": [
      "False\n"
     ]
    }
   ],
   "source": [
    "a=5\n",
    "b=5\n",
    "print(a!=b)"
   ]
  },
  {
   "cell_type": "code",
   "execution_count": 22,
   "metadata": {},
   "outputs": [
    {
     "name": "stdout",
     "output_type": "stream",
     "text": [
      "True\n",
      "False\n"
     ]
    }
   ],
   "source": [
    "c=4\n",
    "d=2\n",
    "print(c>d) # 4>2- True\n",
    "print(c<d) # 4<2-False"
   ]
  },
  {
   "cell_type": "code",
   "execution_count": 24,
   "metadata": {},
   "outputs": [
    {
     "name": "stdout",
     "output_type": "stream",
     "text": [
      "True\n",
      "False\n"
     ]
    }
   ],
   "source": [
    "v=3\n",
    "m=5\n",
    "print(v<=m)  # 3<=5\n",
    "print(v>=m)"
   ]
  },
  {
   "cell_type": "code",
   "execution_count": null,
   "metadata": {},
   "outputs": [],
   "source": [
    "5.Bitwise Operators : &,|,^,<<,>>,~.\n",
    " "
   ]
  },
  {
   "cell_type": "code",
   "execution_count": 31,
   "metadata": {},
   "outputs": [
    {
     "data": {
      "text/plain": [
       "'0b10100'"
      ]
     },
     "execution_count": 31,
     "metadata": {},
     "output_type": "execute_result"
    }
   ],
   "source": [
    "bin(20)"
   ]
  },
  {
   "cell_type": "code",
   "execution_count": 32,
   "metadata": {},
   "outputs": [
    {
     "data": {
      "text/plain": [
       "'0b1010'"
      ]
     },
     "execution_count": 32,
     "metadata": {},
     "output_type": "execute_result"
    }
   ],
   "source": [
    "bin(10)"
   ]
  },
  {
   "cell_type": "code",
   "execution_count": 30,
   "metadata": {},
   "outputs": [
    {
     "name": "stdout",
     "output_type": "stream",
     "text": [
      "0\n",
      "30\n",
      "30\n"
     ]
    }
   ],
   "source": [
    "a=20\n",
    "b=10\n",
    "print(a&b)\n",
    "print(a|b)\n",
    "print(a^b)"
   ]
  },
  {
   "cell_type": "code",
   "execution_count": null,
   "metadata": {},
   "outputs": [],
   "source": [
    "# Membership Operators: in,not in\n",
    "Membership Operators are tested for membership in a sequence,\n",
    "    such as list,string and tuple\n"
   ]
  },
  {
   "cell_type": "code",
   "execution_count": 37,
   "metadata": {},
   "outputs": [
    {
     "name": "stdout",
     "output_type": "stream",
     "text": [
      "True\n",
      "False\n",
      "False\n",
      "False\n",
      "True\n"
     ]
    }
   ],
   "source": [
    "li=[2,5,6,7,8]\n",
    "print(2 in li)\n",
    "print(4 in li)\n",
    "print(7 not in li)\n",
    "print(2 not in li)\n",
    "print(4 not in li)"
   ]
  },
  {
   "cell_type": "code",
   "execution_count": 45,
   "metadata": {},
   "outputs": [
    {
     "name": "stdout",
     "output_type": "stream",
     "text": [
      "True\n",
      "True\n",
      "True\n",
      "False\n",
      "True\n",
      "True\n",
      "False\n"
     ]
    }
   ],
   "source": [
    "s=\"apssdc\"\n",
    "print('a' in s)\n",
    "print('c' in s)\n",
    "print('d' in s)\n",
    "print('f' in s)\n",
    "print(\"aps\" in s)\n",
    "print(\"sdc\" in s)\n",
    "print(\"ac\" in s)"
   ]
  },
  {
   "cell_type": "code",
   "execution_count": null,
   "metadata": {},
   "outputs": [],
   "source": [
    "Identity Operators: is,is not\n",
    "    Identity operators compares the memory locations of two objects"
   ]
  },
  {
   "cell_type": "code",
   "execution_count": 49,
   "metadata": {},
   "outputs": [
    {
     "name": "stdout",
     "output_type": "stream",
     "text": [
      "True\n",
      "False\n",
      "False\n"
     ]
    }
   ],
   "source": [
    "a=34\n",
    "b=34\n",
    "print(a is b)\n",
    "print(a is not b)\n",
    "print(a is not b)"
   ]
  },
  {
   "cell_type": "code",
   "execution_count": 50,
   "metadata": {},
   "outputs": [
    {
     "name": "stdout",
     "output_type": "stream",
     "text": [
      "False\n"
     ]
    }
   ],
   "source": [
    "a=34\n",
    "b=34.0\n",
    "print(a is b)"
   ]
  },
  {
   "cell_type": "code",
   "execution_count": null,
   "metadata": {},
   "outputs": [],
   "source": [
    "Logical Operators: \n",
    "    conditional statements:\n",
    "        if\n",
    "        if-else\n",
    "        elif\n",
    "        Nested if"
   ]
  },
  {
   "cell_type": "code",
   "execution_count": null,
   "metadata": {},
   "outputs": [],
   "source": [
    "if syntax:   \n",
    "    if(condition):\n",
    "        statements\n",
    "        "
   ]
  },
  {
   "cell_type": "code",
   "execution_count": 55,
   "metadata": {},
   "outputs": [
    {
     "name": "stdout",
     "output_type": "stream",
     "text": [
      "Enter any number:6354\n",
      "positive number\n"
     ]
    }
   ],
   "source": [
    "# input: 5\n",
    "# output: postive number\n",
    "a=int(input('Enter any number:'))\n",
    "if(a>0): # 6>0-True\n",
    "    print(\"positive number\")"
   ]
  },
  {
   "cell_type": "code",
   "execution_count": null,
   "metadata": {},
   "outputs": [],
   "source": [
    "# if-else syntax:\n",
    "    if(condition):\n",
    "        statements\n",
    "    else:\n",
    "        statements"
   ]
  },
  {
   "cell_type": "code",
   "execution_count": 60,
   "metadata": {},
   "outputs": [
    {
     "name": "stdout",
     "output_type": "stream",
     "text": [
      "5\n",
      "Odd number\n"
     ]
    }
   ],
   "source": [
    "# input:  5\n",
    "# output: odd\n",
    "n=int(input())\n",
    "if(n%2==0):  #5%2==1\n",
    "    print(\"Even number\")\n",
    "else:\n",
    "    print(\"Odd number\")"
   ]
  },
  {
   "cell_type": "code",
   "execution_count": 63,
   "metadata": {},
   "outputs": [
    {
     "name": "stdout",
     "output_type": "stream",
     "text": [
      "45\n",
      "Eligible for vote\n"
     ]
    }
   ],
   "source": [
    "age=int(input())\n",
    "if(age>=18):\n",
    "    print(\"Eligible for vote\")\n",
    "else:\n",
    "    print(\"Not eligible for vote\")"
   ]
  },
  {
   "cell_type": "code",
   "execution_count": null,
   "metadata": {},
   "outputs": [],
   "source": [
    "# input: 7\n",
    "# output: odd number\n",
    "          343\n",
    "\n",
    "# input:     2\n",
    " # output:   even number\n",
    "             4\n",
    "    "
   ]
  },
  {
   "cell_type": "code",
   "execution_count": 68,
   "metadata": {},
   "outputs": [
    {
     "name": "stdout",
     "output_type": "stream",
     "text": [
      "16\n",
      "Even number\n",
      "256\n"
     ]
    }
   ],
   "source": [
    "s=int(input())   # 7 \n",
    "if(s%2==0):   # 7%2==0(false)\n",
    "    print(\"Even number\")\n",
    "    print(s**2)\n",
    "else:\n",
    "    print(\"Odd number\")\n",
    "    print(s**3) # 7**3=343"
   ]
  },
  {
   "cell_type": "code",
   "execution_count": null,
   "metadata": {},
   "outputs": [],
   "source": [
    "# elif syntax:\n",
    "if(condition):\n",
    "    statements\n",
    "elif(condition):\n",
    "    statements\n",
    "else:\n",
    "    statements"
   ]
  },
  {
   "cell_type": "code",
   "execution_count": null,
   "metadata": {},
   "outputs": [],
   "source": [
    "# input: 34\n",
    "         22\n",
    "         89\n",
    "# output: 89 is the biggest number\n",
    "  34,22,89"
   ]
  },
  {
   "cell_type": "code",
   "execution_count": 70,
   "metadata": {},
   "outputs": [
    {
     "name": "stdout",
     "output_type": "stream",
     "text": [
      "45\n",
      "23\n",
      "11\n",
      "45 is the biggest number\n"
     ]
    }
   ],
   "source": [
    "a=int(input())\n",
    "b=int(input())\n",
    "c=int(input())\n",
    "if(a>b and a>c):   # 34>22(T)and 34>89(F)--  F\n",
    "    print(a,\"is the biggest number\")\n",
    "elif(b>c): # 22>89- FALSE\n",
    "    print(b,\"is the biggest number\")\n",
    "else:\n",
    "    print(c,\"is the biggest number\")"
   ]
  },
  {
   "cell_type": "code",
   "execution_count": null,
   "metadata": {},
   "outputs": [],
   "source": [
    "         0-sunday\n",
    "         1-monday\n",
    "         2-tuesday\n",
    "         3-wednesday\n",
    "         4-thursday\n",
    "         5-friday\n",
    "         6-saturday\n",
    "         7 above----- invalid input\n",
    "            \n",
    "input: 5\n",
    "output: friday"
   ]
  }
 ],
 "metadata": {
  "kernelspec": {
   "display_name": "Python 3",
   "language": "python",
   "name": "python3"
  },
  "language_info": {
   "codemirror_mode": {
    "name": "ipython",
    "version": 3
   },
   "file_extension": ".py",
   "mimetype": "text/x-python",
   "name": "python",
   "nbconvert_exporter": "python",
   "pygments_lexer": "ipython3",
   "version": "3.7.3"
  }
 },
 "nbformat": 4,
 "nbformat_minor": 2
}
