{
 "cells": [
  {
   "cell_type": "code",
   "execution_count": 4,
   "metadata": {},
   "outputs": [
    {
     "name": "stdout",
     "output_type": "stream",
     "text": [
      "2\n",
      "Tuesday\n"
     ]
    }
   ],
   "source": [
    "n=int(input())\n",
    "if(n==0):\n",
    "    print(\"Sunday\")\n",
    "elif(n==1):\n",
    "    print(\"Monday\")\n",
    "elif(n==2):\n",
    "    print(\"Tuesday\")\n",
    "elif(n==3):\n",
    "    print(\"Wednesday\")\n",
    "elif(n==4):\n",
    "    print(\"Thursday\")\n",
    "elif(n==5):\n",
    "    print(\"Friday\")\n",
    "elif(n==6):\n",
    "    print(\"Saturday\")\n",
    "else:\n",
    "    print(\"INVALID INPUT\")"
   ]
  },
  {
   "cell_type": "code",
   "execution_count": null,
   "metadata": {},
   "outputs": [],
   "source": [
    "# nested if-else\n",
    "# syntax:\n",
    "     \n",
    "    if(condition):\n",
    "        if(condition):\n",
    "            statements\n",
    "        else:\n",
    "            statements\n",
    "    else:\n",
    "        statements"
   ]
  },
  {
   "cell_type": "code",
   "execution_count": null,
   "metadata": {},
   "outputs": [],
   "source": [
    "# i/p: 4\n",
    "       even\n",
    "       >10---   power 2\n",
    "       <10---- power 3\n",
    "       \n",
    "    i/P:   7\n",
    "          odd number\n",
    "            "
   ]
  },
  {
   "cell_type": "code",
   "execution_count": 7,
   "metadata": {},
   "outputs": [
    {
     "name": "stdout",
     "output_type": "stream",
     "text": [
      "90\n",
      "even\n",
      "8100\n"
     ]
    }
   ],
   "source": [
    "n=int(input())\n",
    "if(n%2==0):   \n",
    "    print(\"even\")\n",
    "    if(n>10):\n",
    "        print(n**2)  \n",
    "    else:\n",
    "        print(n**3)   \n",
    "else:\n",
    "    print(\"odd\")"
   ]
  },
  {
   "cell_type": "code",
   "execution_count": null,
   "metadata": {},
   "outputs": [],
   "source": [
    "user id  :  50-100--------->  o/p: invalid userid--out of range\n",
    "        \n",
    "password  :    password fixed----   \n",
    "        \n",
    "o/P:   welcome\n",
    "    \n",
    "o/p: invalid \n",
    "\n",
    "\n",
    "          "
   ]
  },
  {
   "cell_type": "code",
   "execution_count": 13,
   "metadata": {},
   "outputs": [
    {
     "name": "stdout",
     "output_type": "stream",
     "text": [
      "Enter userid:  23\n",
      "INVALID USERID\n"
     ]
    }
   ],
   "source": [
    "userid=int(input('Enter userid:  '))\n",
    "if(userid>=50 and userid<=100):\n",
    "    password=int(input('Enter password'))\n",
    "    if(password==5689):\n",
    "        print(\"WELCOME\")\n",
    "    else:\n",
    "        print(\"Invalid\")\n",
    "else:\n",
    "    print(\"INVALID USERID\")\n"
   ]
  },
  {
   "cell_type": "code",
   "execution_count": null,
   "metadata": {},
   "outputs": [],
   "source": [
    "# LOOPS:\n",
    "       \n",
    "    for loop\n",
    "    while loop\n",
    "\n"
   ]
  },
  {
   "cell_type": "code",
   "execution_count": null,
   "metadata": {},
   "outputs": [],
   "source": [
    "for loop syntax: \n",
    "    for value in range(start,end,stepcount):\n",
    "        statements\n",
    "         "
   ]
  },
  {
   "cell_type": "code",
   "execution_count": 17,
   "metadata": {},
   "outputs": [
    {
     "name": "stdout",
     "output_type": "stream",
     "text": [
      "1 2 3 4 5 6 7 8 9 10 "
     ]
    }
   ],
   "source": [
    "# printing 1 to 10 numbers \n",
    "for i in range(1,11):\n",
    "    print(i,end=' ')"
   ]
  },
  {
   "cell_type": "code",
   "execution_count": 24,
   "metadata": {},
   "outputs": [
    {
     "name": "stdout",
     "output_type": "stream",
     "text": [
      "1 4 7 "
     ]
    }
   ],
   "source": [
    "# 1 3 5 7 9\n",
    "for i in range(1,10,3):\n",
    "    print(i,end=' ')"
   ]
  },
  {
   "cell_type": "code",
   "execution_count": 21,
   "metadata": {},
   "outputs": [
    {
     "name": "stdout",
     "output_type": "stream",
     "text": [
      "10 9 8 7 6 5 4 3 2 1 "
     ]
    }
   ],
   "source": [
    "# printing 10 to 1  \n",
    "for i in range(10,0,-1):\n",
    "    print(i,end=' ')"
   ]
  },
  {
   "cell_type": "code",
   "execution_count": 22,
   "metadata": {},
   "outputs": [
    {
     "name": "stdout",
     "output_type": "stream",
     "text": [
      "10 8 6 4 2 "
     ]
    }
   ],
   "source": [
    "for i in range(10,0,-2):\n",
    "    print(i,end=' ')"
   ]
  },
  {
   "cell_type": "code",
   "execution_count": 25,
   "metadata": {},
   "outputs": [
    {
     "name": "stdout",
     "output_type": "stream",
     "text": [
      "0 1 2 3 4 5 6 7 8 9 10 "
     ]
    }
   ],
   "source": [
    "for i in range(11):\n",
    "    print(i,end=' ')"
   ]
  },
  {
   "cell_type": "code",
   "execution_count": 27,
   "metadata": {},
   "outputs": [
    {
     "name": "stdout",
     "output_type": "stream",
     "text": [
      "0 1 2 3 4 5 6 7 8 9 10 11 12 13 14 15 16 17 18 19 20 21 22 23 24 25 26 27 28 29 "
     ]
    }
   ],
   "source": [
    "for i in range(30):\n",
    "    print(i,end=' ')"
   ]
  },
  {
   "cell_type": "code",
   "execution_count": 28,
   "metadata": {},
   "outputs": [
    {
     "name": "stdout",
     "output_type": "stream",
     "text": [
      "55\n"
     ]
    }
   ],
   "source": [
    "# 1 to 10 numbers total=55\n",
    "total=0\n",
    "for i in range(1,11):   # 1    2            3    4         5 \n",
    "    total=total+i        # 0+1=1   1+2=3   3+3=6  6+4=10 10+5=15  .....55  \n",
    "print(total)\n",
    "    "
   ]
  },
  {
   "cell_type": "code",
   "execution_count": 32,
   "metadata": {},
   "outputs": [
    {
     "name": "stdout",
     "output_type": "stream",
     "text": [
      "1\n",
      "30\n",
      "465\n"
     ]
    }
   ],
   "source": [
    "start=int(input())\n",
    "end=int(input())\n",
    "tot=0\n",
    "for i in range(start,end+1):\n",
    "    tot=tot+i\n",
    "print(tot)"
   ]
  },
  {
   "cell_type": "code",
   "execution_count": null,
   "metadata": {},
   "outputs": [],
   "source": [
    "i/p: 4\n",
    "o/p: 4x1=4\n",
    "     .\n",
    "     .\n",
    "     .\n",
    "     .\n",
    "     4x10=40"
   ]
  },
  {
   "cell_type": "code",
   "execution_count": 34,
   "metadata": {},
   "outputs": [
    {
     "name": "stdout",
     "output_type": "stream",
     "text": [
      "Enter any number: 56\n",
      "56 x 1 = 56\n",
      "56 x 2 = 112\n",
      "56 x 3 = 168\n",
      "56 x 4 = 224\n",
      "56 x 5 = 280\n",
      "56 x 6 = 336\n",
      "56 x 7 = 392\n",
      "56 x 8 = 448\n",
      "56 x 9 = 504\n",
      "56 x 10 = 560\n"
     ]
    }
   ],
   "source": [
    "n=int(input('Enter any number: '))\n",
    "for i in range(1,11):\n",
    "    print(n,'x',i,'=',n*i)"
   ]
  },
  {
   "cell_type": "code",
   "execution_count": 37,
   "metadata": {},
   "outputs": [
    {
     "name": "stdout",
     "output_type": "stream",
     "text": [
      "34\n",
      "1 2 17 34 "
     ]
    }
   ],
   "source": [
    "# factors\n",
    "# 10=  1,2,5,10\n",
    "# 5=   1,5\n",
    "n=int(input())    # 10\n",
    "for i in range(1,n+1): #   1,10\n",
    "    if(n%i==0):        #   10%1==0 (T)   10%2==0()\n",
    "        print(i,end=' ')     \n"
   ]
  },
  {
   "cell_type": "code",
   "execution_count": 44,
   "metadata": {},
   "outputs": [
    {
     "name": "stdout",
     "output_type": "stream",
     "text": [
      "34\n",
      "Not prime number\n"
     ]
    }
   ],
   "source": [
    "# prime number\n",
    "n=int(input())        # 5\n",
    "count=0           #0\n",
    "for i in range(1,n+1):   # 1,5\n",
    "    if(n%i==0):\n",
    "        count=count+1 \n",
    "if(count==2):\n",
    "    print(\"Prime number\")\n",
    "else:\n",
    "    print(\"Not prime number\")\n",
    "        "
   ]
  },
  {
   "cell_type": "code",
   "execution_count": null,
   "metadata": {},
   "outputs": [],
   "source": [
    "# i/p: # starting range  : 1\n",
    "       # ending range  : 10\n",
    "    \n",
    "o/p: Even numbers are : 2 4 6 8 10\n",
    "     Odd numbers are : 1 3 5 7 9\n"
   ]
  },
  {
   "cell_type": "code",
   "execution_count": 45,
   "metadata": {},
   "outputs": [
    {
     "name": "stdout",
     "output_type": "stream",
     "text": [
      "1\n",
      "10\n",
      "Even numbers are :  2 4 6 8 10 \n",
      "Odd numbers are :  1 3 5 7 9 "
     ]
    }
   ],
   "source": [
    "sr=int(input())\n",
    "er=int(input())\n",
    "print(\"Even numbers are : \",end=' ')\n",
    "for i in range(sr,er+1):\n",
    "    if(i%2==0):\n",
    "        print(i,end=' ')\n",
    "print(\"\\nOdd numbers are : \",end=' ')\n",
    "for i in range(sr,er+1):\n",
    "    if(i%2==1):\n",
    "        print(i,end=' ')\n"
   ]
  },
  {
   "cell_type": "code",
   "execution_count": 48,
   "metadata": {},
   "outputs": [
    {
     "name": "stdout",
     "output_type": "stream",
     "text": [
      "34\n",
      "Not perfect number\n"
     ]
    }
   ],
   "source": [
    "# perfect number\n",
    "#  6= 1,2,3,6=  1+2+3=6\n",
    "# 28=  1,2,4,7,14= 1+2+4+7+14=28\n",
    "n=int(input())   # 6\n",
    "total=0   \n",
    "for i in range(1,n):   #(1,5)  \n",
    "    if(n%i==0):      # 6%1==0   #6%2==0   #6%3==0  \n",
    "        total=total+i   # 0+1=1   1+2=3    3+3=6   \n",
    "if(total==n):  #  6==6(True)\n",
    "    print(\"Perfect number\")\n",
    "else:\n",
    "    print(\"Not perfect number\")"
   ]
  },
  {
   "cell_type": "code",
   "execution_count": null,
   "metadata": {},
   "outputs": [],
   "source": [
    "# factorial=5\n",
    "# o/p: 120"
   ]
  },
  {
   "cell_type": "code",
   "execution_count": null,
   "metadata": {},
   "outputs": [],
   "source": []
  },
  {
   "cell_type": "code",
   "execution_count": null,
   "metadata": {},
   "outputs": [],
   "source": []
  }
 ],
 "metadata": {
  "kernelspec": {
   "display_name": "Python 3",
   "language": "python",
   "name": "python3"
  },
  "language_info": {
   "codemirror_mode": {
    "name": "ipython",
    "version": 3
   },
   "file_extension": ".py",
   "mimetype": "text/x-python",
   "name": "python",
   "nbconvert_exporter": "python",
   "pygments_lexer": "ipython3",
   "version": "3.7.3"
  }
 },
 "nbformat": 4,
 "nbformat_minor": 2
}
