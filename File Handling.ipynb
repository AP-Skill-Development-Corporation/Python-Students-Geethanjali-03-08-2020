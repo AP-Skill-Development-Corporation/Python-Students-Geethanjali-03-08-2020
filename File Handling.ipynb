{
 "cells": [
  {
   "cell_type": "markdown",
   "metadata": {},
   "source": [
    "## Day Objecitves\n",
    "- What is a file?\n",
    "- What is a file handling?\n",
    "- File methods\n",
    "- Different methods\n",
    "- File processing using methods\n",
    "- Use of 'with' statement"
   ]
  },
  {
   "cell_type": "markdown",
   "metadata": {},
   "source": [
    "- File\n",
    "    - File is named location on disk or memory used to store related information\n",
    "    - Python has several funtions for creating, reading, updating and deleting files."
   ]
  },
  {
   "cell_type": "markdown",
   "metadata": {},
   "source": [
    "- File handling\n",
    "    - Python too allows file handling and allows users to handle files i.e.,to read and write \n",
    "      files, along with many other file handling options, to operate files"
   ]
  },
  {
   "cell_type": "markdown",
   "metadata": {},
   "source": [
    "- File methods\n",
    "    - Create file\n",
    "    - open file\n",
    "    - WORK\n",
    "    - close file"
   ]
  },
  {
   "cell_type": "markdown",
   "metadata": {},
   "source": [
    "- Different methods in file handling\n",
    "    - open(filename, mode)\n",
    "        - mode ---> \"r\",\"a\",\"w\" and \"x\" \n",
    "        - read(size)\n",
    "        - "
   ]
  },
  {
   "cell_type": "markdown",
   "metadata": {},
   "source": [
    "- Syntax\n",
    "    - open(filename, mode)\n"
   ]
  },
  {
   "cell_type": "code",
   "execution_count": 9,
   "metadata": {},
   "outputs": [
    {
     "name": "stdout",
     "output_type": "stream",
     "text": [
      "Opened succussfully\n"
     ]
    }
   ],
   "source": [
    "f = open('file.txt')\n",
    "if f:\n",
    "    print('Opened succussfully')\n",
    "else:\n",
    "    print('Access failed')\n",
    "f.close()"
   ]
  },
  {
   "cell_type": "code",
   "execution_count": 3,
   "metadata": {},
   "outputs": [
    {
     "name": "stdout",
     "output_type": "stream",
     "text": [
      "2\n"
     ]
    }
   ],
   "source": [
    "f = open('file.txt','r')\n",
    "data = f.read()\n",
    "print(data)\n",
    "f.close()"
   ]
  },
  {
   "cell_type": "code",
   "execution_count": 39,
   "metadata": {},
   "outputs": [
    {
     "name": "stdout",
     "output_type": "stream",
     "text": [
      "6\n",
      "Good m\n",
      " all\n",
      "Tod\n"
     ]
    }
   ],
   "source": [
    "f = open('file.txt','r')\n",
    "data = f.read(6)\n",
    "print(f.tell())\n",
    "f.seek(12)\n",
    "data1 = f.read(8)\n",
    "print(data)\n",
    "print(data1)\n",
    "f.close()"
   ]
  },
  {
   "cell_type": "code",
   "execution_count": 32,
   "metadata": {},
   "outputs": [],
   "source": [
    "with open('file.txt','a') as f:\n",
    "    #data = f.read()\n",
    "    #print(data)\n",
    "    f.write(\"\\nNow we discussing append method\")\n",
    "    \n",
    "    "
   ]
  },
  {
   "cell_type": "code",
   "execution_count": 33,
   "metadata": {},
   "outputs": [],
   "source": [
    "with open('file.txt','w') as f:\n",
    "    f.write('\\nNow we discussing write method')"
   ]
  },
  {
   "cell_type": "markdown",
   "metadata": {},
   "source": [
    "##### File objective methods\n",
    "- seek()\n",
    "    - Used to change the cursor position\n",
    "- tell()\n",
    "    - Used to know the cursor position"
   ]
  },
  {
   "cell_type": "code",
   "execution_count": 74,
   "metadata": {},
   "outputs": [
    {
     "name": "stdout",
     "output_type": "stream",
     "text": [
      "Good morning all all all\n",
      "Today session is about file and file handling topics\n"
     ]
    }
   ],
   "source": [
    "def readFile(filename):\n",
    "    with open(filename,'r') as f:\n",
    "        filedata = f.read()\n",
    "    return filedata\n",
    "print(readFile('file.txt'))"
   ]
  },
  {
   "cell_type": "code",
   "execution_count": 81,
   "metadata": {},
   "outputs": [
    {
     "name": "stdout",
     "output_type": "stream",
     "text": [
      "2\n"
     ]
    }
   ],
   "source": [
    "## READ LINES IN A DATA OF FILE\n",
    "\n",
    "def readLines(filename):\n",
    "    #with open(filename) as f:\n",
    "       # filedata = f.read()\n",
    "    return len(readFile(filename).split('\\n'))\n",
    "print(readLines('file.txt'))"
   ]
  },
  {
   "cell_type": "code",
   "execution_count": 85,
   "metadata": {},
   "outputs": [
    {
     "data": {
      "text/plain": [
       "14"
      ]
     },
     "execution_count": 85,
     "metadata": {},
     "output_type": "execute_result"
    }
   ],
   "source": [
    "def no_words(filename):\n",
    "    c = 0\n",
    "    with open(filename,'r') as f:\n",
    "        filedata = f.readlines()\n",
    "        for line in filedata:\n",
    "            words_list = line.split()\n",
    "            c += len(words_list)\n",
    "    return c\n",
    "no_words('file.txt')\n",
    "        \n",
    "    "
   ]
  },
  {
   "cell_type": "code",
   "execution_count": 66,
   "metadata": {},
   "outputs": [
    {
     "data": {
      "text/plain": [
       "3"
      ]
     },
     "execution_count": 66,
     "metadata": {},
     "output_type": "execute_result"
    }
   ],
   "source": [
    "def freq_word(filename,word):\n",
    "    c = 0\n",
    "    with open(filename,'r') as f:\n",
    "        filedata = f.readlines()\n",
    "        for line in filedata:\n",
    "            words_list = line.split()\n",
    "            for i in words_list:\n",
    "                if word == i:\n",
    "                    c += 1\n",
    "    return c\n",
    "freq_word('file.txt','all')"
   ]
  },
  {
   "cell_type": "code",
   "execution_count": 71,
   "metadata": {},
   "outputs": [
    {
     "data": {
      "text/plain": [
       "{'Good': 1,\n",
       " 'morning': 1,\n",
       " 'all': 3,\n",
       " 'Today': 1,\n",
       " 'session': 1,\n",
       " 'is': 1,\n",
       " 'about': 1,\n",
       " 'file': 2,\n",
       " 'and': 1,\n",
       " 'handling': 1,\n",
       " 'topics': 1}"
      ]
     },
     "execution_count": 71,
     "metadata": {},
     "output_type": "execute_result"
    }
   ],
   "source": [
    "def word_freq(filename):\n",
    "    freq_dict = {}\n",
    "    with open(filename,'r') as f:\n",
    "        filedata = f.readlines()\n",
    "        for line in filedata:\n",
    "            words_list = line.split()\n",
    "            for word in words_list:\n",
    "                if word not in freq_dict:\n",
    "                    freq_dict[word] = 1\n",
    "                else:\n",
    "                    freq_dict[word] += 1\n",
    "    return freq_dict\n",
    "word_freq('file.txt')\n",
    "    "
   ]
  },
  {
   "cell_type": "code",
   "execution_count": 1,
   "metadata": {},
   "outputs": [
    {
     "name": "stdout",
     "output_type": "stream",
     "text": [
      "18\n"
     ]
    }
   ],
   "source": [
    "with open('student_data.txt','w') as f:\n",
    "    data = f.write('Hello Good morning')\n",
    "    print(data)\n"
   ]
  },
  {
   "cell_type": "code",
   "execution_count": null,
   "metadata": {},
   "outputs": [],
   "source": []
  }
 ],
 "metadata": {
  "kernelspec": {
   "display_name": "Python 3",
   "language": "python",
   "name": "python3"
  },
  "language_info": {
   "codemirror_mode": {
    "name": "ipython",
    "version": 3
   },
   "file_extension": ".py",
   "mimetype": "text/x-python",
   "name": "python",
   "nbconvert_exporter": "python",
   "pygments_lexer": "ipython3",
   "version": "3.8.3"
  }
 },
 "nbformat": 4,
 "nbformat_minor": 4
}
