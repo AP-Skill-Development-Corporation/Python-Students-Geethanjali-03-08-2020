{
 "cells": [
  {
   "cell_type": "markdown",
   "metadata": {},
   "source": [
    "## File Handling\n",
    "- What is file\n",
    "- What is file handling\n",
    "- File methods\n",
    "- File modes\n",
    "- File processing using methods\n",
    "- Use of 'with' statement"
   ]
  },
  {
   "cell_type": "markdown",
   "metadata": {},
   "source": [
    "- File\n",
    "    - File is a named location on disk or memory used to store related information\n",
    "        -ex: .txt, .xlsx,.jg,.py,.ipynb,.mp3,.mp4 etc\n",
    "    - Python has several functions for creating, reading, updating and deleting files\n",
    "    \n",
    "        "
   ]
  },
  {
   "cell_type": "markdown",
   "metadata": {},
   "source": [
    "- File Handling\n",
    "    - Reading, Writing, updating and deleting\n",
    "    "
   ]
  },
  {
   "cell_type": "markdown",
   "metadata": {},
   "source": [
    "- File Methods\n",
    "    - read() : \n",
    "        - Syntax: file_variable.read(size)\n",
    "    - write()\n",
    "        - Syntax: file_variable.write(data)\n",
    "    - append()\n",
    "        - Syntax: file_variable.write(data)\n",
    "        \n",
    "- 'r': reading\n",
    "- 'w': writing\n",
    "- 'a': appending\n",
    "- 'w+': reading and writing\n",
    "- 'a+': appending and redingb\n",
    "- 'r+': reading and writing\n",
    "\n"
   ]
  },
  {
   "cell_type": "markdown",
   "metadata": {},
   "source": [
    "- Creation\n",
    "- Open \n",
    "- Work\n",
    "- Close"
   ]
  },
  {
   "cell_type": "markdown",
   "metadata": {},
   "source": [
    "- Syntax for opening file\n",
    "    - file_obj = open('filename','mode')\n",
    "- Syntax for closing file\n",
    "    - file_obj.close()\n",
    "    "
   ]
  },
  {
   "cell_type": "code",
   "execution_count": 46,
   "metadata": {},
   "outputs": [
    {
     "name": "stdout",
     "output_type": "stream",
     "text": [
      "Opened Successfully\n"
     ]
    }
   ],
   "source": [
    "## File reading\n",
    "\n",
    "f = open('File.txt','r')\n",
    "if f:\n",
    "    print('Opened Successfully')\n",
    "else:\n",
    "    print('Failed')\n",
    "f.close()"
   ]
  },
  {
   "cell_type": "code",
   "execution_count": 50,
   "metadata": {},
   "outputs": [
    {
     "name": "stdout",
     "output_type": "stream",
     "text": [
      "Good morning all\n",
      "Now we are discussing file handling\n",
      "Thank you\n"
     ]
    }
   ],
   "source": [
    "### File data reading and printing\n",
    "\n",
    "f = open('File.txt')\n",
    "data = f.read()\n",
    "print(data)"
   ]
  },
  {
   "cell_type": "code",
   "execution_count": 52,
   "metadata": {},
   "outputs": [
    {
     "name": "stdout",
     "output_type": "stream",
     "text": [
      "Good morni\n"
     ]
    }
   ],
   "source": [
    "f = open('File.txt')\n",
    "data = f.read(10)\n",
    "print(data)"
   ]
  },
  {
   "cell_type": "code",
   "execution_count": 7,
   "metadata": {},
   "outputs": [
    {
     "name": "stdout",
     "output_type": "stream",
     "text": [
      "Welcome to python workshop\n"
     ]
    }
   ],
   "source": [
    "with open(r'C:\\Users\\Nandini\\Desktop\\Python Workshop\\python.txt') as f:\n",
    "    data = f.read()\n",
    "    print(data)\n",
    "    "
   ]
  },
  {
   "cell_type": "code",
   "execution_count": 4,
   "metadata": {},
   "outputs": [],
   "source": [
    "with open('File.txt','w') as f:\n",
    "    f.write('Welcome to another session')\n",
    "    "
   ]
  },
  {
   "cell_type": "code",
   "execution_count": 5,
   "metadata": {},
   "outputs": [],
   "source": [
    "with open('File.txt','a') as f:\n",
    "    f.write('\\nThank you')"
   ]
  },
  {
   "cell_type": "markdown",
   "metadata": {},
   "source": [
    "### File objective methods\n",
    "- seek()\n",
    "    - Used to change the cursor position\n",
    "- tell()\n",
    "    - Used to know the cursor position"
   ]
  },
  {
   "cell_type": "code",
   "execution_count": 14,
   "metadata": {},
   "outputs": [
    {
     "name": "stdout",
     "output_type": "stream",
     "text": [
      "Welcome#\n",
      "8\n",
      "nothe\n"
     ]
    }
   ],
   "source": [
    "with open('File.txt') as f:\n",
    "    data = f.read(8)\n",
    "    print(data)\n",
    "    print(f.tell())\n",
    "    f.seek(12)\n",
    "    data1 = f.read(5)\n",
    "    print(data1)"
   ]
  },
  {
   "cell_type": "code",
   "execution_count": 15,
   "metadata": {},
   "outputs": [
    {
     "name": "stdout",
     "output_type": "stream",
     "text": [
      "Welcome#to another session\n",
      "Thank you\n"
     ]
    }
   ],
   "source": [
    "### Reading file by using functions\n",
    "\n",
    "def readFile(filename):\n",
    "    with open(filename,'r') as f:\n",
    "        filedata = f.read()\n",
    "    return filedata\n",
    "print(readFile('File.txt'))"
   ]
  },
  {
   "cell_type": "code",
   "execution_count": 19,
   "metadata": {},
   "outputs": [
    {
     "name": "stdout",
     "output_type": "stream",
     "text": [
      "3\n"
     ]
    }
   ],
   "source": [
    "## Read lines in our file\n",
    "\n",
    "def readLines(filename):\n",
    "    #with open(filename) as f:\n",
    "       # filedata = f.read()\n",
    "    return len(readFile(filename).split('\\n'))\n",
    "print(readLines('File.txt'))\n",
    "    "
   ]
  },
  {
   "cell_type": "code",
   "execution_count": 24,
   "metadata": {},
   "outputs": [
    {
     "name": "stdout",
     "output_type": "stream",
     "text": [
      "3\n"
     ]
    }
   ],
   "source": [
    "with open('File.txt') as f:\n",
    "    data = f.readlines()\n",
    "    print(len(data))"
   ]
  },
  {
   "cell_type": "code",
   "execution_count": 29,
   "metadata": {},
   "outputs": [],
   "source": [
    "with open('PYTHON.txt','w') as f1:\n",
    "    f1.write('Rain')\n",
    "    "
   ]
  },
  {
   "cell_type": "code",
   "execution_count": 32,
   "metadata": {},
   "outputs": [
    {
     "data": {
      "text/plain": [
       "7"
      ]
     },
     "execution_count": 32,
     "metadata": {},
     "output_type": "execute_result"
    }
   ],
   "source": [
    "### Caluculating number of words in file\n",
    "\n",
    "def no_of_words(filename):\n",
    "    w_c = 0\n",
    "    with open(filename,'r') as f:\n",
    "        filedata = f.readlines()\n",
    "        for line in filedata:\n",
    "            words_list = line.split()\n",
    "            w_c += len(words_list)\n",
    "    return w_c\n",
    "no_of_words('File.txt')\n",
    "            "
   ]
  },
  {
   "cell_type": "markdown",
   "metadata": {},
   "source": [
    "## Tasks\n",
    "- Frequency of words\n",
    "\n",
    "- Word frequency\n",
    "    -{Welcome#to:1, another:1, session:1,----Good:2, afternoon:1}\n",
    "    \n",
    "Welcome#to another session\n",
    "Thank you\n",
    "Good morning\n",
    "Good afternoon"
   ]
  },
  {
   "cell_type": "code",
   "execution_count": null,
   "metadata": {},
   "outputs": [],
   "source": []
  }
 ],
 "metadata": {
  "kernelspec": {
   "display_name": "Python 3",
   "language": "python",
   "name": "python3"
  },
  "language_info": {
   "codemirror_mode": {
    "name": "ipython",
    "version": 3
   },
   "file_extension": ".py",
   "mimetype": "text/x-python",
   "name": "python",
   "nbconvert_exporter": "python",
   "pygments_lexer": "ipython3",
   "version": "3.8.3"
  }
 },
 "nbformat": 4,
 "nbformat_minor": 4
}
