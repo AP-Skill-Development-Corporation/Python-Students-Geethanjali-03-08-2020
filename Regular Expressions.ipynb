{
 "cells": [
  {
   "cell_type": "code",
   "execution_count": null,
   "metadata": {},
   "outputs": [],
   "source": [
    "# Regular Expression: \n",
    "--> A Regular Expression is a sequence of characters that defines a search \n",
    "                       pattern\n",
    "--> RegEx can be used to check if a string contains the specified search \n",
    "                          pattern\n",
    "--> We have a builtin module in python work to with RegEx i.e re\n",
    "--> We have to import that module into our python file by using a keyword\n",
    "            called re\n",
    "\n",
    "Syntax:  import re"
   ]
  },
  {
   "cell_type": "code",
   "execution_count": null,
   "metadata": {},
   "outputs": [],
   "source": [
    "3 methods \n",
    "1.findall()\n",
    "2.search()\n",
    "3.match()"
   ]
  },
  {
   "cell_type": "code",
   "execution_count": null,
   "metadata": {},
   "outputs": [],
   "source": [
    "1.findall():\n",
    "     -> It returns a list containing all matches(or)\n",
    "        This module is used to search for all occurences that match a given pattern..."
   ]
  },
  {
   "cell_type": "code",
   "execution_count": 2,
   "metadata": {},
   "outputs": [
    {
     "name": "stdout",
     "output_type": "stream",
     "text": [
      "['ai', 'ai']\n"
     ]
    }
   ],
   "source": [
    "import re\n",
    "n=\"The rain in spain\"\n",
    "z=re.findall(\"ai\",n)\n",
    "print(z)"
   ]
  },
  {
   "cell_type": "code",
   "execution_count": 3,
   "metadata": {},
   "outputs": [
    {
     "name": "stdout",
     "output_type": "stream",
     "text": [
      "[]\n"
     ]
    }
   ],
   "source": [
    "import re\n",
    "n=\"The rain in spain\"\n",
    "z=re.findall(\"ty\",n)\n",
    "print(z)"
   ]
  },
  {
   "cell_type": "code",
   "execution_count": 7,
   "metadata": {},
   "outputs": [
    {
     "data": {
      "text/plain": [
       "<re.Match object; span=(0, 1), match='w'>"
      ]
     },
     "execution_count": 7,
     "metadata": {},
     "output_type": "execute_result"
    }
   ],
   "source": [
    "# search():  first occurence\n",
    "re.search(\"w\",\"workshop\")"
   ]
  },
  {
   "cell_type": "code",
   "execution_count": 9,
   "metadata": {},
   "outputs": [
    {
     "data": {
      "text/plain": [
       "<re.Match object; span=(0, 1), match='p'>"
      ]
     },
     "execution_count": 9,
     "metadata": {},
     "output_type": "execute_result"
    }
   ],
   "source": [
    "re.search(\"p\",\"pythonwporksphop\")"
   ]
  },
  {
   "cell_type": "code",
   "execution_count": 12,
   "metadata": {},
   "outputs": [],
   "source": [
    "re.search(\"z\",\"python\")"
   ]
  },
  {
   "cell_type": "code",
   "execution_count": 13,
   "metadata": {},
   "outputs": [
    {
     "data": {
      "text/plain": [
       "['p', 'p']"
      ]
     },
     "execution_count": 13,
     "metadata": {},
     "output_type": "execute_result"
    }
   ],
   "source": [
    "re.findall(\"p\",\"pythonworkshop\")"
   ]
  },
  {
   "cell_type": "code",
   "execution_count": 14,
   "metadata": {},
   "outputs": [
    {
     "data": {
      "text/plain": [
       "<re.Match object; span=(0, 1), match='p'>"
      ]
     },
     "execution_count": 14,
     "metadata": {},
     "output_type": "execute_result"
    }
   ],
   "source": [
    "re.search(\"p\",\"pythonworkshop\")"
   ]
  },
  {
   "cell_type": "code",
   "execution_count": 15,
   "metadata": {},
   "outputs": [
    {
     "data": {
      "text/plain": [
       "<re.Match object; span=(0, 1), match='p'>"
      ]
     },
     "execution_count": 15,
     "metadata": {},
     "output_type": "execute_result"
    }
   ],
   "source": [
    "# match:\n",
    "re.match('p',\"python\")"
   ]
  },
  {
   "cell_type": "code",
   "execution_count": 16,
   "metadata": {},
   "outputs": [
    {
     "data": {
      "text/plain": [
       "<re.Match object; span=(0, 2), match='py'>"
      ]
     },
     "execution_count": 16,
     "metadata": {},
     "output_type": "execute_result"
    }
   ],
   "source": [
    "re.match('py',\"python\")"
   ]
  },
  {
   "cell_type": "code",
   "execution_count": 17,
   "metadata": {},
   "outputs": [],
   "source": [
    "re.match(\"yu\",\"python\")"
   ]
  },
  {
   "cell_type": "code",
   "execution_count": 18,
   "metadata": {},
   "outputs": [
    {
     "data": {
      "text/plain": [
       "<re.Match object; span=(0, 4), match='pyth'>"
      ]
     },
     "execution_count": 18,
     "metadata": {},
     "output_type": "execute_result"
    }
   ],
   "source": [
    "re.match(\"pyth\",\"python\")"
   ]
  },
  {
   "cell_type": "code",
   "execution_count": null,
   "metadata": {},
   "outputs": [],
   "source": [
    "patterns:\n",
    "    ^ - start\n",
    "    $ - end\n",
    "    [0-9] :- numbers\n",
    "    [a-z] :- small alphabets\n",
    "    [A-Z] :- Capital alphabets\n",
    "    [a-zA-Z]:- both alphabets\n",
    "    [@] :- Special Symbol\n",
    "    [.] :- Any character\n",
    "    [0-9]{4} :- we have to give 4 numbers\n",
    "    [0-9]{6} :- we have to give 6 numbers\n",
    "    | - another pattern....\n",
    "        "
   ]
  },
  {
   "cell_type": "code",
   "execution_count": null,
   "metadata": {},
   "outputs": [],
   "source": [
    "# phone number validation\n",
    "starts with either 6,7,8,9 \n",
    "must contain 10 digits\n",
    "starts with +91 7658375389 \n",
    "^[6-9][0-9]{9}$--\n",
    "^[+][9][1][6-9][0-9]{9}$"
   ]
  },
  {
   "cell_type": "code",
   "execution_count": 2,
   "metadata": {},
   "outputs": [
    {
     "name": "stdout",
     "output_type": "stream",
     "text": [
      "Enter number: +916900456289\n",
      "Valid Number\n"
     ]
    }
   ],
   "source": [
    "import re\n",
    "phone_no=input('Enter number: ')\n",
    "pattern=\"^[6-9][0-9]{9}$|^[+][9][1][6-9][0-9]{9}$\"\n",
    "if re.match(pattern,phone_no):\n",
    "    print(\"Valid Number\")\n",
    "else:\n",
    "    print(\"Not Valid Number\")\n",
    "    "
   ]
  },
  {
   "cell_type": "code",
   "execution_count": null,
   "metadata": {},
   "outputs": [],
   "source": [
    "# Email validation:\n",
    "1.username@domain\n",
    "   username specifications:\n",
    "        a-z0-9\n",
    "        special symbols::::      _  .\n",
    "        length - 6 to 20 characters--   \n",
    "        \n",
    "        \n",
    "2.domain\n",
    "   a-z-- length- 5 to 10 characters   --- @gmail,@yahoo,............\n",
    "   a-z--- length - 2 to 5 characters --- .in,.org,...........\n",
    "        \n",
    "            \n"
   ]
  }
 ],
 "metadata": {
  "kernelspec": {
   "display_name": "Python 3",
   "language": "python",
   "name": "python3"
  },
  "language_info": {
   "codemirror_mode": {
    "name": "ipython",
    "version": 3
   },
   "file_extension": ".py",
   "mimetype": "text/x-python",
   "name": "python",
   "nbconvert_exporter": "python",
   "pygments_lexer": "ipython3",
   "version": "3.7.3"
  }
 },
 "nbformat": 4,
 "nbformat_minor": 2
}
